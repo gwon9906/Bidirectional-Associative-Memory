{
 "cells": [
  {
   "metadata": {},
   "cell_type": "markdown",
   "source": "BAM학습",
   "id": "fd463599ec2b4080"
  },
  {
   "cell_type": "code",
   "id": "initial_id",
   "metadata": {
    "collapsed": true,
    "ExecuteTime": {
     "end_time": "2024-08-18T13:35:10.285173Z",
     "start_time": "2024-08-18T13:35:10.285173Z"
    }
   },
   "source": [
    "import numpy as np\n",
    "import matplotlib.pyplot as plt\n",
    "from PIL import Image\n",
    "import os\n",
    "\n",
    "def load_and_preprocess_images(folder_path, image_size):\n",
    "    images = []\n",
    "    for filename in os.listdir(folder_path)[:40]:  # 처음 40개의 이미지만 사용\n",
    "        if filename.endswith(('.png', '.jpg', '.jpeg')):\n",
    "            img_path = os.path.join(folder_path, filename)\n",
    "            img = Image.open(img_path).convert('L')  # 그레이스케일로 변환\n",
    "            img = img.resize((image_size, image_size))\n",
    "            img_array = np.array(img)\n",
    "            img_binary = np.where(img_array > 128, 1, -1)  # 이진화\n",
    "            images.append(img_binary.flatten())  # 1차원 배열로 변환\n",
    "    return images\n",
    "\n",
    "def add_noise(image, noise_factor=0.2):\n",
    "    noisy_img = image.copy()\n",
    "    noise = np.random.rand(*image.shape) < noise_factor\n",
    "    noisy_img[noise] *= -1\n",
    "    return noisy_img"
   ],
   "outputs": [],
   "execution_count": null
  },
  {
   "metadata": {
    "ExecuteTime": {
     "end_time": "2024-08-18T11:30:25.096273Z",
     "start_time": "2024-08-18T11:30:25.089508Z"
    }
   },
   "cell_type": "code",
   "source": [
    "class BAM:\n",
    "    def __init__(self, size_x, size_y):\n",
    "        self.size_x = size_x\n",
    "        self.size_y = size_y\n",
    "        self.W = np.zeros((size_x, size_y))\n",
    "\n",
    "    def train(self, patterns_x, patterns_y):\n",
    "        for x, y in zip(patterns_x, patterns_y):\n",
    "            self.W += np.outer(x, y)  # Hebbian learning\n",
    "        self.W /= len(patterns_x)\n",
    "\n",
    "    def recall_x(self, y, max_iterations=50):\n",
    "        for _ in range(max_iterations):\n",
    "            x = np.sign(self.W @ y)\n",
    "            y_new = np.sign(self.W.T @ x)\n",
    "            if np.array_equal(y, y_new):\n",
    "                break\n",
    "            y = y_new\n",
    "        return x\n",
    "\n",
    "    def recall_y(self, x, max_iterations=50):\n",
    "        for _ in range(max_iterations):\n",
    "            y = np.sign(self.W.T @ x)\n",
    "            x_new = np.sign(self.W @ y)\n",
    "            if np.array_equal(x, x_new):\n",
    "                break\n",
    "            x = x_new\n",
    "        return y"
   ],
   "id": "d4013c88e861bc72",
   "outputs": [],
   "execution_count": 41
  },
  {
   "metadata": {
    "ExecuteTime": {
     "end_time": "2024-08-18T13:35:10.284176Z",
     "start_time": "2024-08-18T13:35:10.061291Z"
    }
   },
   "cell_type": "code",
   "source": [
    "# 이미지 로드 및 전처리\n",
    "image_size = 32\n",
    "folder_path = \"data\"\n",
    "images = load_and_preprocess_images(folder_path, image_size)\n",
    "\n",
    "# BAM 생성 및 학습\n",
    "bam = BAM(image_size * image_size, image_size * image_size)\n",
    "bam.train(images, images)  # 자기 연관 학습 (self-association)\n",
    "\n",
    "# 모든 학습된 이미지에 대해 테스트\n",
    "plt.figure(figsize=(15, 5 * len(images)))\n",
    "for i, original_image in enumerate(images):\n",
    "    noisy_image = add_noise(original_image)\n",
    "    recovered_image = bam.recall_x(noisy_image)\n",
    "\n",
    "    plt.subplot(len(images), 3, i*3 + 1)\n",
    "    plt.imshow(original_image.reshape(image_size, image_size), cmap='gray')\n",
    "    plt.title(f'Original Image {i+1}')\n",
    "    plt.axis('off')\n",
    "\n",
    "    plt.subplot(len(images), 3, i*3 + 2)\n",
    "    plt.imshow(noisy_image.reshape(image_size, image_size), cmap='gray')\n",
    "    plt.title(f'Noisy Image {i+1}')\n",
    "    plt.axis('off')\n",
    "\n",
    "    plt.subplot(len(images), 3, i*3 + 3)\n",
    "    plt.imshow(recovered_image.reshape(image_size, image_size), cmap='gray')\n",
    "    plt.title(f'Recovered Image {i+1}')\n",
    "    plt.axis('off')\n",
    "\n",
    "plt.tight_layout()\n",
    "plt.show()\n",
    "\n",
    "# 학습되지 않은 이미지로 테스트\n",
    "new_image = load_and_preprocess_images(folder_path, image_size, num_images=6)[-1]\n",
    "noisy_new_image = add_noise(new_image)\n",
    "recovered_new_image = bam.recall_x(noisy_new_image)\n",
    "\n",
    "plt.figure(figsize=(15, 5))\n",
    "plt.subplot(131)\n",
    "plt.imshow(new_image.reshape(image_size, image_size), cmap='gray')\n",
    "plt.title('New Image (Not Learned)')\n",
    "plt.axis('off')\n",
    "\n",
    "plt.subplot(132)\n",
    "plt.imshow(noisy_new_image.reshape(image_size, image_size), cmap='gray')\n",
    "plt.title('Noisy New Image')\n",
    "plt.axis('off')\n",
    "\n",
    "plt.subplot(133)\n",
    "plt.imshow(recovered_new_image.reshape(image_size, image_size), cmap='gray')\n",
    "plt.title('BAM Output for New Image')\n",
    "plt.axis('off')\n",
    "\n",
    "plt.tight_layout()\n",
    "plt.show()"
   ],
   "id": "937c1d6506754f1f",
   "outputs": [
    {
     "ename": "NameError",
     "evalue": "name 'load_and_preprocess_images' is not defined",
     "output_type": "error",
     "traceback": [
      "\u001B[1;31m---------------------------------------------------------------------------\u001B[0m",
      "\u001B[1;31mNameError\u001B[0m                                 Traceback (most recent call last)",
      "Cell \u001B[1;32mIn[1], line 4\u001B[0m\n\u001B[0;32m      2\u001B[0m image_size \u001B[38;5;241m=\u001B[39m \u001B[38;5;241m32\u001B[39m\n\u001B[0;32m      3\u001B[0m folder_path \u001B[38;5;241m=\u001B[39m \u001B[38;5;124m\"\u001B[39m\u001B[38;5;124mdata\u001B[39m\u001B[38;5;124m\"\u001B[39m\n\u001B[1;32m----> 4\u001B[0m images \u001B[38;5;241m=\u001B[39m \u001B[43mload_and_preprocess_images\u001B[49m(folder_path, image_size)\n\u001B[0;32m      6\u001B[0m \u001B[38;5;66;03m# BAM 생성 및 학습\u001B[39;00m\n\u001B[0;32m      7\u001B[0m bam \u001B[38;5;241m=\u001B[39m BAM(image_size \u001B[38;5;241m*\u001B[39m image_size, image_size \u001B[38;5;241m*\u001B[39m image_size)\n",
      "\u001B[1;31mNameError\u001B[0m: name 'load_and_preprocess_images' is not defined"
     ]
    }
   ],
   "execution_count": 1
  }
 ],
 "metadata": {
  "kernelspec": {
   "display_name": "Python 3",
   "language": "python",
   "name": "python3"
  },
  "language_info": {
   "codemirror_mode": {
    "name": "ipython",
    "version": 2
   },
   "file_extension": ".py",
   "mimetype": "text/x-python",
   "name": "python",
   "nbconvert_exporter": "python",
   "pygments_lexer": "ipython2",
   "version": "2.7.6"
  }
 },
 "nbformat": 4,
 "nbformat_minor": 5
}
